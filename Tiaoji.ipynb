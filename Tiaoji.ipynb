{
 "cells": [
  {
   "cell_type": "code",
   "execution_count": 1,
   "metadata": {},
   "outputs": [
    {
     "name": "stdout",
     "output_type": "stream",
     "text": [
      "^C\n",
      "Note: you may need to restart the kernel to use updated packages.\n"
     ]
    },
    {
     "name": "stderr",
     "output_type": "stream",
     "text": [
      "ERROR: pip's dependency resolver does not currently take into account all the packages that are installed. This behaviour is the source of the following dependency conflicts.\n",
      "gradio 3.50.2 requires websockets<12.0,>=10.0, but you have websockets 12.0 which is incompatible.\n",
      "langchain-wenxin 0.10.2 requires pydantic<2.0, but you have pydantic 2.5.3 which is incompatible.\n",
      "metagpt 0.7.2 requires langchain==0.0.352, but you have langchain 0.1.9 which is incompatible.\n",
      "metagpt 0.7.2 requires openai==1.6.0, but you have openai 1.12.0 which is incompatible.\n",
      "metagpt 0.7.2 requires tiktoken==0.5.2, but you have tiktoken 0.6.0 which is incompatible.\n"
     ]
    }
   ],
   "source": [
    "%pip install --upgrade --quiet  langchain langchain-openai faiss-cpu tiktoken"
   ]
  }
 ],
 "metadata": {
  "kernelspec": {
   "display_name": "chatglm3-demo",
   "language": "python",
   "name": "python3"
  },
  "language_info": {
   "codemirror_mode": {
    "name": "ipython",
    "version": 3
   },
   "file_extension": ".py",
   "mimetype": "text/x-python",
   "name": "python",
   "nbconvert_exporter": "python",
   "pygments_lexer": "ipython3",
   "version": "3.10.13"
  }
 },
 "nbformat": 4,
 "nbformat_minor": 2
}
